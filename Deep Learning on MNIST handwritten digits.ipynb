
{
 "cells": [
  {
   "cell_type": "code",
   "execution_count": 4,
   "metadata": {},
   "outputs": [],
   "source": [
    "import numpy as np\n",
    "import keras\n",
    "import matplotlib.pyplot as plt\n",
    "import pandas as pd\n",
    "%matplotlib inline"
   ]
  },
  {
   "cell_type": "code",
   "execution_count": 2,
   "metadata": {},
   "outputs": [
    {
     "name": "stdout",
     "output_type": "stream",
     "text": [
      "Downloading data from https://s3.amazonaws.com/img-datasets/mnist.npz\n",
      "11493376/11490434 [==============================] - 11s 1us/step\n"
     ]
    }
   ],
   "source": [
    "from keras.datasets import mnist\n",
    "\n",
    "(x_train, y_train), (x_test, y_test) = mnist.load_data()\n"
   ]
  },
  {
   "cell_type": "code",
   "execution_count": 5,
   "metadata": {},
   "outputs": [],
   "source": [
    "from keras.models import Sequential\n",
    "from keras.layers import Dense, Dropout, Flatten"
   ]
  },
  {
   "cell_type": "code",
   "execution_count": 6,
   "metadata": {
    "scrolled": true
   },
   "outputs": [
    {
     "data": {
      "text/plain": [
       "array([[[0, 0, 0, ..., 0, 0, 0],\n",
       "        [0, 0, 0, ..., 0, 0, 0],\n",
       "        [0, 0, 0, ..., 0, 0, 0],\n",
       "        ...,\n",
       "        [0, 0, 0, ..., 0, 0, 0],\n",
       "        [0, 0, 0, ..., 0, 0, 0],\n",
       "        [0, 0, 0, ..., 0, 0, 0]],\n",
       "\n",
       "       [[0, 0, 0, ..., 0, 0, 0],\n",
       "        [0, 0, 0, ..., 0, 0, 0],\n",
       "        [0, 0, 0, ..., 0, 0, 0],\n",
       "        ...,\n",
       "        [0, 0, 0, ..., 0, 0, 0],\n",
       "        [0, 0, 0, ..., 0, 0, 0],\n",
       "        [0, 0, 0, ..., 0, 0, 0]],\n",
       "\n",
       "       [[0, 0, 0, ..., 0, 0, 0],\n",
       "        [0, 0, 0, ..., 0, 0, 0],\n",
       "        [0, 0, 0, ..., 0, 0, 0],\n",
       "        ...,\n",
       "        [0, 0, 0, ..., 0, 0, 0],\n",
       "        [0, 0, 0, ..., 0, 0, 0],\n",
       "        [0, 0, 0, ..., 0, 0, 0]],\n",
       "\n",
       "       ...,\n",
       "\n",
       "       [[0, 0, 0, ..., 0, 0, 0],\n",
       "        [0, 0, 0, ..., 0, 0, 0],\n",
       "        [0, 0, 0, ..., 0, 0, 0],\n",
       "        ...,\n",
       "        [0, 0, 0, ..., 0, 0, 0],\n",
       "        [0, 0, 0, ..., 0, 0, 0],\n",
       "        [0, 0, 0, ..., 0, 0, 0]],\n",
       "\n",
       "       [[0, 0, 0, ..., 0, 0, 0],\n",
       "        [0, 0, 0, ..., 0, 0, 0],\n",
       "        [0, 0, 0, ..., 0, 0, 0],\n",
       "        ...,\n",
       "        [0, 0, 0, ..., 0, 0, 0],\n",
       "        [0, 0, 0, ..., 0, 0, 0],\n",
       "        [0, 0, 0, ..., 0, 0, 0]],\n",
       "\n",
       "       [[0, 0, 0, ..., 0, 0, 0],\n",
       "        [0, 0, 0, ..., 0, 0, 0],\n",
       "        [0, 0, 0, ..., 0, 0, 0],\n",
       "        ...,\n",
       "        [0, 0, 0, ..., 0, 0, 0],\n",
       "        [0, 0, 0, ..., 0, 0, 0],\n",
       "        [0, 0, 0, ..., 0, 0, 0]]], dtype=uint8)"
      ]
     },
     "execution_count": 6,
     "metadata": {},
     "output_type": "execute_result"
    }
   ],
   "source": [
    "x_train"
   ]
  },
  {
   "cell_type": "code",
   "execution_count": 8,
   "metadata": {},
   "outputs": [
    {
     "data": {
      "text/plain": [
       "(60000, 28, 28)"
      ]
     },
     "execution_count": 8,
     "metadata": {},
     "output_type": "execute_result"
    }
   ],
   "source": [
    "x_train.shape"
   ]
  },
  {
   "cell_type": "markdown",
   "metadata": {},
   "source": [
    "Now we will scale the values to a value between 0 to 1 by dividing the pixels by the range which is 255"
   ]
  },
  {
   "cell_type": "code",
   "execution_count": 9,
   "metadata": {},
   "outputs": [],
   "source": [
    "x_train = x_train/255\n",
    "x_test = x_test/255"
   ]
  },
  {
   "cell_type": "markdown",
   "metadata": {},
   "source": [
    "Here let's see how one digit actually looks like with the matplot's matrix show function"
   ]
  },
  {
   "cell_type": "code",
   "execution_count": 11,
   "metadata": {},
   "outputs": [
    {
     "data": {
      "text/plain": [
       "<matplotlib.image.AxesImage at 0x1c148df1208>"
      ]
     },
     "execution_count": 11,
     "metadata": {},
     "output_type": "execute_result"
    },
    {
     "data": {
      "image/png": "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\n",
      "text/plain": [
       "<Figure size 288x288 with 1 Axes>"
      ]
     },
     "metadata": {
      "needs_background": "light"
     },
     "output_type": "display_data"
    }
   ],
   "source": [
    "plt.matshow(x_train[0])"
   ]
  },
  {
   "cell_type": "code",
   "execution_count": 12,
   "metadata": {},
   "outputs": [
    {
     "data": {
      "text/plain": [
       "5"
      ]
     },
     "execution_count": 12,
     "metadata": {},
     "output_type": "execute_result"
    }
   ],
   "source": [
    "y_train[0]"
   ]
  },
  {
   "cell_type": "code",
   "execution_count": 10,
   "metadata": {},
   "outputs": [
    {
     "data": {
      "text/plain": [
       "array([5, 0, 4, ..., 5, 6, 8], dtype=uint8)"
      ]
     },
     "execution_count": 10,
     "metadata": {},
     "output_type": "execute_result"
    }
   ],
   "source": [
    "y_train"
   ]
  },
  {
   "cell_type": "code",
   "execution_count": 31,
   "metadata": {},
   "outputs": [],
   "source": [
    "model = Sequential()\n",
    "\n",
    "#the input layer\n",
    "model.add(Flatten(input_shape=[28,28]))\n",
    "\n",
    "#now we add the hidden layer\n",
    "model.add(Dense(50,activation='relu'))\n",
    "model.add(Dropout(0.2))\n",
    "model.add(Dense(10,activation='softmax'))"
   ]
  },
  {
   "cell_type": "code",
   "execution_count": 32,
   "metadata": {},
   "outputs": [
    {
     "name": "stdout",
     "output_type": "stream",
     "text": [
      "_________________________________________________________________\n",
      "Layer (type)                 Output Shape              Param #   \n",
      "=================================================================\n",
      "flatten_5 (Flatten)          (None, 784)               0         \n",
      "_________________________________________________________________\n",
      "dense_10 (Dense)             (None, 50)                39250     \n",
      "_________________________________________________________________\n",
      "dropout_5 (Dropout)          (None, 50)                0         \n",
      "_________________________________________________________________\n",
      "dense_11 (Dense)             (None, 10)                510       \n",
      "=================================================================\n",
      "Total params: 39,760\n",
      "Trainable params: 39,760\n",
      "Non-trainable params: 0\n",
      "_________________________________________________________________\n"
     ]
    }
   ],
   "source": [
    "model.summary()"
   ]
  },
  {
   "cell_type": "code",
   "execution_count": 33,
   "metadata": {},
   "outputs": [],
   "source": [
    "model.compile(loss='sparse_categorical_crossentropy',\n",
    "             optimizer='adam',\n",
    "             metrics=['accuracy'])"
   ]
  },
  {
   "cell_type": "code",
   "execution_count": 62,
   "metadata": {},
   "outputs": [
    {
     "name": "stdout",
     "output_type": "stream",
     "text": [
      "Train on 48000 samples, validate on 12000 samples\n",
      "Epoch 1/5\n",
      "48000/48000 [==============================] - 4s 91us/step - loss: 0.0911 - acc: 0.9709 - val_loss: 0.0429 - val_acc: 0.9864\n",
      "Epoch 2/5\n",
      "48000/48000 [==============================] - 5s 98us/step - loss: 0.0881 - acc: 0.9706 - val_loss: 0.0493 - val_acc: 0.9853\n",
      "Epoch 3/5\n",
      "48000/48000 [==============================] - 4s 92us/step - loss: 0.0858 - acc: 0.9719 - val_loss: 0.0496 - val_acc: 0.9836\n",
      "Epoch 4/5\n",
      "48000/48000 [==============================] - 4s 74us/step - loss: 0.0818 - acc: 0.9722 - val_loss: 0.0537 - val_acc: 0.9831\n",
      "Epoch 5/5\n",
      "48000/48000 [==============================] - 4s 91us/step - loss: 0.0845 - acc: 0.9720 - val_loss: 0.0540 - val_acc: 0.9832\n"
     ]
    }
   ],
   "source": [
    "history = model.fit(x_train,y_train,epochs=5,validation_split=0.2)"
   ]
  },
  {