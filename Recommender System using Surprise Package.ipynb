{
 "cells": [
  {
   "cell_type": "markdown",
   "metadata": {},
   "source": [
    "## Collaborative FIltering\n",
    "\n",
    "for this notebook, we will be using the Surprise package to do collaborative filtering, that is matching users to content based on users of similar tastes and preferences.  "
   ]
  },
  {
   "cell_type": "markdown",