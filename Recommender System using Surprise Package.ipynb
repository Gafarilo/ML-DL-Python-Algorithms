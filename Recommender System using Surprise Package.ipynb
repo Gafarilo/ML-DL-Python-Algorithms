{
 "cells": [
  {
   "cell_type": "markdown",
   "metadata": {},
   "source": [
    "## Collaborative FIltering\n",
    "\n",
    "for this notebook, we will be using the Surprise package to do collaborative filtering, that is matching users to content based on users of similar tastes and preferences.  "
   ]
  },
  {
   "cell_type": "markdown",
   "metadata": {},
   "source": [
    "First, let us load the data"
   ]
  },
  {
   "cell_type": "code",
   "execution_count": 2,
   "metadata": {},
   "outputs": [],
   "source": [
    "import pandas as pd\n",
    "import numpy as np\n"
   ]
  },
  {
   "cell_type": "code",
   "execution_count": 3,
   "metadata": {},
   "outputs": [
    {
     "data": {
      "text/html": [
       "<div>\n",
       "<style scoped>\n",
       "    .dataframe tbody tr th:only-of-type {\n",
       "        vertical-align: middle;\n",
       "    }\n",
       "\n",
       "    .dataframe tbody tr th {\n",
       "        vertical-align: top;\n",
       "    }\n",
       "\n",
       "    .dataframe thead th {\n",
       "        text-align: right;\n",
       "    }\n",
       "</style>\n",
       "<table border=\"1\" class=\"dataframe\">\n",
       "  <thead>\n",
       "    <tr style=\"text-align: right;\">\n",
       "      <th></th>\n",
       "      <th>User-ID</th>\n",
       "      <th>ISBN</th>\n",
       "      <th>Book-Rating</th>\n",
       "    </tr>\n",
       "  </thead>\n",
       "  <tbody>\n",
       "    <tr>\n",
       "      <th>0</th>\n",
       "      <td>276725</td>\n",
       "      <td>034545104X</td>\n",
       "      <td>0</td>\n",
       "    </tr>\n",
       "    <tr>\n",
       "      <th>1</th>\n",
       "      <td>276726</td>\n",
       "      <td>0155061224</td>\n",
       "      <td>5</td>\n",
       "    </tr>\n",
       "    <tr>\n",
       "      <th>2</th>\n",
       "      <td>276727</td>\n",
       "      <td>0446520802</td>\n",
       "      <td>0</td>\n",
       "    </tr>\n",
       "    <tr>\n",
       "      <th>3</th>\n",
       "      <td>276729</td>\n",
       "      <td>052165615X</td>\n",
       "      <td>3</td>\n",
       "    </tr>\n",
       "    <tr>\n",
       "      <th>4</th>\n",
       "      <td>276729</td>\n",
       "      <td>0521795028</td>\n",
       "      <td>6</td>\n",
       "    </tr>\n",
       "  </tbody>\n",
       "</table>\n",
       "</div>"
      ],
      "text/plain": [
       "   User-ID        ISBN  Book-Rating\n",
       "0   276725  034545104X            0\n",
       "1   276726  0155061224            5\n",
       "2   276727  0446520802            0\n",
       "3   276729  052165615X            3\n",
       "4   276729  0521795028            6"
      ]
     },
     "execution_count": 3,
     "metadata": {},
     "output_type": "execute_result"
    }
   ],
   "source": [
    "df_ratings = pd.read_csv('BX-Book-Ratings.csv', sep=';', error_bad_lines=False, encoding=\"latin-1\")\n",
    "df_ratings.head()"
   ]
  },
  {
   "cell_type": "code",
   "execution_count": 4,
   "metadata": {},
   "outputs": [
    {
     "data": {
      "text/html": [
       "<div>\n",
       "<style scoped>\n",
       "    .dataframe tbody tr th:only-of-type {\n",
       "        vertical-align: middle;\n",
       "    }\n",
       "\n",
       "    .dataframe tbody tr th {\n",
       "        vertical-align: top;\n",
       "    }\n",
       "\n",
       "    .dataframe thead th {\n",
       "        text-align: right;\n",
       "    }\n",
       "</style>\n",
       "<table border=\"1\" class=\"dataframe\">\n",
       "  <thead>\n",
       "    <tr style=\"text-align: right;\">\n",
       "      <th></th>\n",
       "      <th>User-ID</th>\n",
       "      <th>Location</th>\n",
       "      <th>Age</th>\n",
       "    </tr>\n",
       "  </thead>\n",
       "  <tbody>\n",
       "    <tr>\n",
       "      <th>0</th>\n",
       "      <td>1</td>\n",
       "      <td>nyc, new york, usa</td>\n",
       "      <td>NaN</td>\n",
       "    </tr>\n",
       "    <tr>\n",
       "      <th>1</th>\n",
       "      <td>2</td>\n",
       "      <td>stockton, california, usa</td>\n",
       "      <td>18.0</td>\n",
       "    </tr>\n",
       "    <tr>\n",
       "      <th>2</th>\n",
       "      <td>3</td>\n",
       "      <td>moscow, yukon territory, russia</td>\n",
       "      <td>NaN</td>\n",
       "    </tr>\n",
       "    <tr>\n",
       "      <th>3</th>\n",
       "      <td>4</td>\n",
       "      <td>porto, v.n.gaia, portugal</td>\n",
       "      <td>17.0</td>\n",
       "    </tr>\n",
       "    <tr>\n",
       "      <th>4</th>\n",
       "      <td>5</td>\n",
       "      <td>farnborough, hants, united kingdom</td>\n",
       "      <td>NaN</td>\n",
       "    </tr>\n",
       "  </tbody>\n",
       "</table>\n",
       "</div>"
      ],
      "text/plain": [
       "   User-ID                            Location   Age\n",
       "0        1                  nyc, new york, usa   NaN\n",
       "1        2           stockton, california, usa  18.0\n",
       "2        3     moscow, yukon territory, russia   NaN\n",
       "3        4           porto, v.n.gaia, portugal  17.0\n",
       "4        5  farnborough, hants, united kingdom   NaN"
      ]
     },
     "execution_count": 4,
     "metadata": {},
     "output_type": "execute_result"
    }
   ],
   "source": [
    "df_users = pd.read_csv('BX-Users.csv',sep=';',error_bad_lines=False , encoding=\"latin-1\")\n",
    "df_users.head()"
   ]
  },
  {
   "cell_type": "markdown",
   "metadata": {},
   "source": [
    "Now, we only want users who have made ratings so we merge the 2 dataframe"
   ]
  },
  {
   "cell_type": "code",
   "execution_count": 5,
   "metadata": {},
   "outputs": [
    {
     "data": {
      "text/html": [
       "<div>\n",
       "<style scoped>\n",
       "    .dataframe tbody tr th:only-of-type {\n",
       "        vertical-align: middle;\n",
       "    }\n",
       "\n",
       "    .dataframe tbody tr th {\n",
       "        vertical-align: top;\n",
       "    }\n",
       "\n",
       "    .dataframe thead th {\n",
       "        text-align: right;\n",
       "    }\n",
       "</style>\n",
       "<table border=\"1\" class=\"dataframe\">\n",
       "  <thead>\n",
       "    <tr style=\"text-align: right;\">\n",
       "      <th></th>\n",
       "      <th>User-ID</th>\n",
       "      <th>ISBN</th>\n",
       "      <th>Book-Rating</th>\n",
       "    </tr>\n",
       "  </thead>\n",
       "  <tbody>\n",
       "    <tr>\n",
       "      <th>0</th>\n",
       "      <td>276725</td>\n",
       "      <td>034545104X</td>\n",
       "      <td>0</td>\n",
       "    </tr>\n",
       "    <tr>\n",
       "      <th>1</th>\n",
       "      <td>276726</td>\n",
       "      <td>0155061224</td>\n",
       "      <td>5</td>\n",
       "    </tr>\n",
       "    <tr>\n",
       "      <th>2</th>\n",
       "      <td>276727</td>\n",
       "      <td>0446520802</td>\n",
       "      <td>0</td>\n",
       "    </tr>\n",
       "    <tr>\n",
       "      <th>3</th>\n",
       "      <td>276729</td>\n",
       "      <td>052165615X</td>\n",
       "      <td>3</td>\n",
       "    </tr>\n",
       "    <tr>\n",
       "      <th>4</th>\n",
       "      <td>276729</td>\n",
       "      <td>0521795028</td>\n",
       "      <td>6</td>\n",
       "    </tr>\n",
       "  </tbody>\n",
       "</table>\n",
       "</div>"
      ],
      "text/plain": [
       "   User-ID        ISBN  Book-Rating\n",
       "0   276725  034545104X            0\n",
       "1   276726  0155061224            5\n",
       "2   276727  0446520802            0\n",
       "3   276729  052165615X            3\n",
       "4   276729  0521795028            6"
      ]
     },
     "execution_count": 5,
     "metadata": {},
     "output_type": "execute_result"
    }
   ],
   "source": [
    "df = pd.merge(df_ratings , df_users , on='User-ID' , how='inner')\n",
    "df.drop(['Location','Age'],axis='columns',inplace=True)\n",
    "df.head()"
   ]
  },
  {
   "cell_type": "markdown",
   "metadata": {},
   "source": [
    "### Exploratory Data Analysis\n",
    "\n",
    "Now, let us look at the distribution of the ratings"
   ]
  },
  {
   "cell_type": "code",
   "execution_count": 6,
   "metadata": {},
   "outputs": [
    {
     "data": {
      "image/png": "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\n",
      "text/plain": [
       "<Figure size 432x288 with 1 Axes>"
      ]
     },
     "metadata": {
      "needs_background": "light"
     },
     "output_type": "display_data"
    }
   ],
   "source": [
    "import seaborn as sns\n",
    "import matplotlib.pyplot as plt\n",
    "%matplotlib inline\n",
    "plt.hist(df['Book-Rating'],edgecolor='black')\n",
    "plt.show()\n"
   ]
  },
  {
   "cell_type": "markdown",
   "metadata": {},
   "source": [
    "Here, we can tell that most of the books are rated 0. It is possible that these books are not rated or that people tend to only rate something that is poor but not rate a good product. "
   ]
  },
  {
   "cell_type": "code",
   "execution_count": 7,
   "metadata": {
    "scrolled": true
   },
   "outputs": [
    {
     "data": {
      "text/plain": [
       "ISBN\n",
       " 0330299891       2\n",
       " 0375404120       2\n",
       " 0586045007       1\n",
       " 9022906116       2\n",
       " 9032803328       1\n",
       " 9044922564       1\n",
       " 9044922572       1\n",
       " 9044922718       1\n",
       " 9044923161       1\n",
       " 904492401X       1\n",
       " 9061002273       1\n",
       "#069580216X       1\n",
       "#6612432          1\n",
       "'9607092856'      1\n",
       "'9607092910'      1\n",
       "(THEWINDMILLP     1\n",
       ")416195113        1\n",
       ")440206529        1\n",
       ")452273056        1\n",
       ")553267833        1\n",
       ")959326839        1\n",
       "*0452281903       2\n",
       "*0515128325       1\n",
       "+0451197399       2\n",
       ",.0330486187      1\n",
       "/8741060773       1\n",
       "0 00 612183 7     1\n",
       "0 00 614494 2     1\n",
       "0 00 655241 2     1\n",
       "0 09 944678 2     1\n",
       "                 ..\n",
       "X000000000        3\n",
       "X113780760        1\n",
       "X439361760        1\n",
       "X903145730        1\n",
       "XXXXXXXXXX        2\n",
       "XXXXXXXXXXXXX     1\n",
       "Y99697115         1\n",
       "YOUTELLEM,AND     1\n",
       "Z380703475        1\n",
       "ZR902CX0093       1\n",
       "ZR903CX0003       3\n",
       "\\0094749809\"      1\n",
       "\\0210000010\"      1\n",
       "\\0432534220\"      1\n",
       "\\0432534220\\\"\"    3\n",
       "\\0679751521\"      1\n",
       "\\2842053052\\\"\"    2\n",
       "\\8804501367\\\"\"    1\n",
       "\\8804520159\\\"\"    1\n",
       "\\8887517452\\\"\"    1\n",
       "\\8888809228\\\"\"    1\n",
       "\\9170010242\\\"\"    1\n",
       "`3502103682       2\n",
       "b00005wz75        1\n",
       "cn108465          1\n",
       "cn113107          1\n",
       "ooo7156103        1\n",
       "§423350229        1\n",
       "´3499128624       1\n",
       "Ô½crosoft         1\n",
       "Name: Book-Rating, Length: 340556, dtype: int64"
      ]
     },
     "execution_count": 7,
     "metadata": {},
     "output_type": "execute_result"
    }
   ],
   "source": [
    "data = df.groupby('ISBN')['Book-Rating'].count().clip(upper=50)\n",
    "data"
   ]
  },
  {
   "cell_type": "code",
   "execution_count": 8,
   "metadata": {},
   "outputs": [
    {
     "data": {
      "text/plain": [
       "<matplotlib.axes._subplots.AxesSubplot at 0x1848e18d048>"
      ]
     },
     "execution_count": 8,
     "metadata": {},
     "output_type": "execute_result"
    },
    {
     "data": {
      "image/png": "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