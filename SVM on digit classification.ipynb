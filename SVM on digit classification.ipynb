{
 "cells": [
  {
   "cell_type": "markdown",
   "metadata": {},
   "source": [
    "## Here I am going to work on the digits data set and explore how different kernels and Gamma values for SVM affects the dataset"
   ]
  },
  {
   "cell_type": "markdown",
   "metadata": {},
   "source": [
    "### Desciption of Gamma Values"
   ]
  },
  {
   "cell_type": "markdown",
   "metadata": {},
   "source": [
    "The behavior of the model is very sensitive to the gamma parameter. If gamma is too large, the radius of the area of influence of the support vectors only includes the support vector itself and no amount of regularization with C will be able to prevent overfitting.\n",
    "\n",
    "When gamma is very small, the model is too constrained and cannot capture the complexity or “shape” of the data. The region of influence of any selected support vector would include the whole training set. The resulting model will behave similarly to a linear model with a set of hyperplanes that separate the centers of high density of any pair of two classes."
   ]
  },
  {
   "cell_type": "markdown",
   "metadata": {},
   "source": [
    "### How Regularisation (C) affects the SVM"
   ]
  },
  {
   "attachments": {
    "image.png": {
     "image/png": "iVBORw0KGgoAAAANSUhEUgAAA6kAAAG8CAYAAAA8W+OyAAAgAElEQVR4Aey9W5AcVZrn+XP3uOQ9Uyml7hK6ICEBEgKEuIMooLgU1VRTU9093b3TYzZjtma7D/vSZvMyr2u2s/syY2s7szs93TNVXVVdXVVQFBT3m5BAiJtAgADdAN2lVCpTec+MCHdf+46Hp1IqqUoSeYmM+IcsMjwi3