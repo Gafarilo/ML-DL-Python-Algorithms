{
 "cells": [
  {
   "cell_type": "markdown",
   "metadata": {},
   "source": [
    "## Here I am going to work on the digits data set and explore how different kernels and Gamma values for SVM affects the dataset"
   ]
  },
  {
   "cell_type": "markdown",
   "metadata": {},
   "source": [
    "### Desciption of Gamma Values"
   ]
  },
  {
   "cell_type": "markdown",
   "metadata": {},
   "source": [
    "The behavior of the model is very sensitive to the gamma parameter. If gamma is too large, the radius of the area of influence of the support vectors only includes the support vector itself and no amount of regularization with C will be able to prevent overfitting.\n",
    "\n",
    "When gamma is very small, the model is too constrained and cannot capture the complexity or “shape” of the data. The region of influence of any selected support vector would include the whole training set. The resulting model will behave similarly to a linear model with a set of hyperplanes that separate the centers of high density of any pair of two classes."
   ]
  },
  {
   "cell_type": "markdown",
   "metadata": {},
   "source": [
    "### How Regularisation (C) affects the SVM"
   ]
  },
  {
   "attachments": {
    "image.png": {
     "image/png": "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